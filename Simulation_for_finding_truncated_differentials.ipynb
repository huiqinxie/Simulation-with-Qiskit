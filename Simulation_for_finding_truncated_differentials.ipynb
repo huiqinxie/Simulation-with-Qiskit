{
 "cells": [
  {
   "cell_type": "code",
   "execution_count": 4,
   "metadata": {},
   "outputs": [],
   "source": [
    "# importing Qiskit\n",
    "from qiskit import IBMQ, Aer\n",
    "from qiskit.providers.ibmq import least_busy\n",
    "from qiskit import QuantumCircuit, transpile, assemble\n",
    "\n",
    "# import basic plot tools\n",
    "from qiskit.visualization import plot_histogram"
   ]
  },
  {
   "cell_type": "code",
   "execution_count": 5,
   "metadata": {},
   "outputs": [
    {
     "data": {
      "text/html": [
       "<pre style=\"word-wrap: normal;white-space: pre;background: #fff0;line-height: 1.1;font-family: &quot;Courier New&quot;,Courier,monospace\">           ░ ┌───┐ ░                 ░ ┌───┐┌─┐         \n",
       "q_0: ──────░─┤ H ├─░───■─────────────░─┤ H ├┤M├─────────\n",
       "           ░ ├───┤ ░   │             ░ ├───┤└╥┘┌─┐      \n",
       "q_1: ──────░─┤ H ├─░───┼────■────────░─┤ H ├─╫─┤M├──────\n",
       "           ░ ├───┤ ░   │    │        ░ ├───┤ ║ └╥┘┌─┐   \n",
       "q_2: ──────░─┤ H ├─░───┼────┼────■───░─┤ H ├─╫──╫─┤M├───\n",
       "           ░ ├───┤ ░   │    │    │   ░ ├───┤ ║  ║ └╥┘┌─┐\n",
       "q_3: ──────░─┤ H ├─░───┼────┼────■───░─┤ H ├─╫──╫──╫─┤M├\n",
       "     ┌───┐ ░ ├───┤ ░ ┌─┴─┐┌─┴─┐┌─┴─┐ ░ └───┘ ║  ║  ║ └╥┘\n",
       "q_4: ┤ X ├─░─┤ H ├─░─┤ X ├┤ X ├┤ X ├─░───────╫──╫──╫──╫─\n",
       "     └───┘ ░ └───┘ ░ └───┘└───┘└───┘ ░       ║  ║  ║  ║ \n",
       "c: 4/════════════════════════════════════════╩══╩══╩══╩═\n",
       "                                             0  1  2  3 </pre>"
      ],
      "text/plain": [
       "           ░ ┌───┐ ░                 ░ ┌───┐┌─┐         \n",
       "q_0: ──────░─┤ H ├─░───■─────────────░─┤ H ├┤M├─────────\n",
       "           ░ ├───┤ ░   │             ░ ├───┤└╥┘┌─┐      \n",
       "q_1: ──────░─┤ H ├─░───┼────■────────░─┤ H ├─╫─┤M├──────\n",
       "           ░ ├───┤ ░   │    │        ░ ├───┤ ║ └╥┘┌─┐   \n",
       "q_2: ──────░─┤ H ├─░───┼────┼────■───░─┤ H ├─╫──╫─┤M├───\n",
       "           ░ ├───┤ ░   │    │    │   ░ ├───┤ ║  ║ └╥┘┌─┐\n",
       "q_3: ──────░─┤ H ├─░───┼────┼────■───░─┤ H ├─╫──╫──╫─┤M├\n",
       "     ┌───┐ ░ ├───┤ ░ ┌─┴─┐┌─┴─┐┌─┴─┐ ░ └───┘ ║  ║  ║ └╥┘\n",
       "q_4: ┤ X ├─░─┤ H ├─░─┤ X ├┤ X ├┤ X ├─░───────╫──╫──╫──╫─\n",
       "     └───┘ ░ └───┘ ░ └───┘└───┘└───┘ ░       ║  ║  ║  ║ \n",
       "c: 4/════════════════════════════════════════╩══╩══╩══╩═\n",
       "                                             0  1  2  3 "
      ]
     },
     "execution_count": 5,
     "metadata": {},
     "output_type": "execute_result"
    }
   ],
   "source": [
    "# F[1](x1,x2,x3,x4)\n",
    "n = 4\n",
    "\n",
    "quantum_circuit1 = QuantumCircuit(n+1,n)\n",
    "\n",
    "# Apply Hadamard gates before querying the oracle\n",
    "quantum_circuit1.x(4)\n",
    "# Apply barrier for visual separation\n",
    "quantum_circuit1.barrier()\n",
    "quantum_circuit1.h([0,1,2,3,4])    \n",
    "    \n",
    "# Apply barrier for visual separation\n",
    "quantum_circuit1.barrier()\n",
    "\n",
    "quantum_circuit1.cx(0,4)\n",
    "quantum_circuit1.cx(1,4)\n",
    "quantum_circuit1.ccx(2,3,4)\n",
    "\n",
    "\n",
    "\n",
    "# Apply barrier for visual separation\n",
    "\n",
    "\n",
    "quantum_circuit1.barrier()\n",
    "\n",
    "# Apply Hadamard gates to the input register\n",
    "\n",
    "quantum_circuit1.h([0,1,2,3])\n",
    "\n",
    "# Measure qubits\n",
    "quantum_circuit1.measure(range(n),range(n))\n",
    "quantum_circuit1.draw()"
   ]
  },
  {
   "cell_type": "code",
   "execution_count": 8,
   "metadata": {},
   "outputs": [
    {
     "data": {
      "image/png": "[encoded data removed]",
      "text/plain": [
       "<Figure size 504x360 with 1 Axes>"
      ]
     },
     "execution_count": 8,
     "metadata": {},
     "output_type": "execute_result"
    }
   ],
   "source": [
    "# use local simulator\n",
    "aer_sim = Aer.get_backend('aer_simulator')\n",
    "shots = 1024\n",
    "qobj = assemble(quantum_circuit1, shots=shots)\n",
    "results = aer_sim.run(qobj).result()\n",
    "counts = results.get_counts()\n",
    "plot_histogram(counts)"
   ]
  },
  {
   "cell_type": "code",
   "execution_count": 9,
   "metadata": {},
   "outputs": [
    {
     "data": {
      "text/html": [
       "<pre style=\"word-wrap: normal;white-space: pre;background: #fff0;line-height: 1.1;font-family: &quot;Courier New&quot;,Courier,monospace\">           ░ ┌───┐ ░                 ░ ┌───┐┌─┐         \n",
       "q_0: ──────░─┤ H ├─░─────────────■───░─┤ H ├┤M├─────────\n",
       "           ░ ├───┤ ░             │   ░ ├───┤└╥┘┌─┐      \n",
       "q_1: ──────░─┤ H ├─░───■─────────┼───░─┤ H ├─╫─┤M├──────\n",
       "           ░ ├───┤ ░   │         │   ░ ├───┤ ║ └╥┘┌─┐   \n",
       "q_2: ──────░─┤ H ├─░───┼────■────┼───░─┤ H ├─╫──╫─┤M├───\n",
       "           ░ ├───┤ ░   │    │    │   ░ ├───┤ ║  ║ └╥┘┌─┐\n",
       "q_3: ──────░─┤ H ├─░───┼────┼────■───░─┤ H ├─╫──╫──╫─┤M├\n",
       "     ┌───┐ ░ ├───┤ ░ ┌─┴─┐┌─┴─┐┌─┴─┐ ░ └───┘ ║  ║  ║ └╥┘\n",
       "q_4: ┤ X ├─░─┤ H ├─░─┤ X ├┤ X ├┤ X ├─░───────╫──╫──╫──╫─\n",
       "     └───┘ ░ └───┘ ░ └───┘└───┘└───┘ ░       ║  ║  ║  ║ \n",
       "c: 4/════════════════════════════════════════╩══╩══╩══╩═\n",
       "                                             0  1  2  3 </pre>"
      ],
      "text/plain": [
       "           ░ ┌───┐ ░                 ░ ┌───┐┌─┐         \n",
       "q_0: ──────░─┤ H ├─░─────────────■───░─┤ H ├┤M├─────────\n",
       "           ░ ├───┤ ░             │   ░ ├───┤└╥┘┌─┐      \n",
       "q_1: ──────░─┤ H ├─░───■─────────┼───░─┤ H ├─╫─┤M├──────\n",
       "           ░ ├───┤ ░   │         │   ░ ├───┤ ║ └╥┘┌─┐   \n",
       "q_2: ──────░─┤ H ├─░───┼────■────┼───░─┤ H ├─╫──╫─┤M├───\n",
       "           ░ ├───┤ ░   │    │    │   ░ ├───┤ ║  ║ └╥┘┌─┐\n",
       "q_3: ──────░─┤ H ├─░───┼────┼────■───░─┤ H ├─╫──╫──╫─┤M├\n",
       "     ┌───┐ ░ ├───┤ ░ ┌─┴─┐┌─┴─┐┌─┴─┐ ░ └───┘ ║  ║  ║ └╥┘\n",
       "q_4: ┤ X ├─░─┤ H ├─░─┤ X ├┤ X ├┤ X ├─░───────╫──╫──╫──╫─\n",
       "     └───┘ ░ └───┘ ░ └───┘└───┘└───┘ ░       ║  ║  ║  ║ \n",
       "c: 4/════════════════════════════════════════╩══╩══╩══╩═\n",
       "                                             0  1  2  3 "
      ]
     },
     "execution_count": 9,
     "metadata": {},
     "output_type": "execute_result"
    }
   ],
   "source": [
    "# F[2](x1,x2,x3,x4)\n",
    "n = 4\n",
    "\n",
    "quantum_circuit2 = QuantumCircuit(n+1,n)\n",
    "\n",
    "# Apply Hadamard gates before querying the oracle\n",
    "quantum_circuit2.x(4)\n",
    "# Apply barrier for visual separation\n",
    "quantum_circuit2.barrier()\n",
    "quantum_circuit2.h([0,1,2,3,4])    \n",
    "    \n",
    "# Apply barrier for visual separation\n",
    "quantum_circuit2.barrier()\n",
    "\n",
    "quantum_circuit2.cx(1,4)\n",
    "quantum_circuit2.cx(2,4)\n",
    "quantum_circuit2.ccx(0,3,4)\n",
    "\n",
    "\n",
    "# Apply barrier for visual separation\n",
    "\n",
    "\n",
    "quantum_circuit2.barrier()\n",
    "\n",
    "# Apply Hadamard gates to the input register\n",
    "\n",
    "quantum_circuit2.h([0,1,2,3])\n",
    "\n",
    "# Measure qubits\n",
    "quantum_circuit2.measure(range(n),range(n))\n",
    "quantum_circuit2.draw()"
   ]
  },
  {
   "cell_type": "code",
   "execution_count": 10,
   "metadata": {},
   "outputs": [
    {
     "data": {
      "image/png": "[encoded data removed]",
      "text/plain": [
       "<Figure size 504x360 with 1 Axes>"
      ]
     },
     "execution_count": 10,
     "metadata": {},
     "output_type": "execute_result"
    }
   ],
   "source": [
    "# use local simulator\n",
    "aer_sim = Aer.get_backend('aer_simulator')\n",
    "shots = 1024\n",
    "qobj = assemble(quantum_circuit2, shots=shots)\n",
    "results = aer_sim.run(qobj).result()\n",
    "counts = results.get_counts()\n",
    "plot_histogram(counts)"
   ]
  },
  {
   "cell_type": "code",
   "execution_count": 14,
   "metadata": {},
   "outputs": [
    {
     "data": {
      "text/html": [
       "<pre style=\"word-wrap: normal;white-space: pre;background: #fff0;line-height: 1.1;font-family: &quot;Courier New&quot;,Courier,monospace\">           ░ ┌───┐ ░                 ░ ┌───┐┌─┐         \n",
       "q_0: ──────░─┤ H ├─░─────────────────░─┤ H ├┤M├─────────\n",
       "           ░ ├───┤ ░                 ░ ├───┤└╥┘┌─┐      \n",
       "q_1: ──────░─┤ H ├─░───■─────────────░─┤ H ├─╫─┤M├──────\n",
       "           ░ ├───┤ ░   │             ░ ├───┤ ║ └╥┘┌─┐   \n",
       "q_2: ──────░─┤ H ├─░───┼────■────────░─┤ H ├─╫──╫─┤M├───\n",
       "           ░ ├───┤ ░   │    │        ░ ├───┤ ║  ║ └╥┘┌─┐\n",
       "q_3: ──────░─┤ H ├─░───┼────┼────■───░─┤ H ├─╫──╫──╫─┤M├\n",
       "     ┌───┐ ░ ├───┤ ░ ┌─┴─┐┌─┴─┐┌─┴─┐ ░ └───┘ ║  ║  ║ └╥┘\n",
       "q_4: ┤ X ├─░─┤ H ├─░─┤ X ├┤ X ├┤ X ├─░───────╫──╫──╫──╫─\n",
       "     └───┘ ░ └───┘ ░ └───┘└───┘└───┘ ░       ║  ║  ║  ║ \n",
       "c: 4/════════════════════════════════════════╩══╩══╩══╩═\n",
       "                                             0  1  2  3 </pre>"
      ],
      "text/plain": [
       "           ░ ┌───┐ ░                 ░ ┌───┐┌─┐         \n",
       "q_0: ──────░─┤ H ├─░─────────────────░─┤ H ├┤M├─────────\n",
       "           ░ ├───┤ ░                 ░ ├───┤└╥┘┌─┐      \n",
       "q_1: ──────░─┤ H ├─░───■─────────────░─┤ H ├─╫─┤M├──────\n",
       "           ░ ├───┤ ░   │             ░ ├───┤ ║ └╥┘┌─┐   \n",
       "q_2: ──────░─┤ H ├─░───┼────■────────░─┤ H ├─╫──╫─┤M├───\n",
       "           ░ ├───┤ ░   │    │        ░ ├───┤ ║  ║ └╥┘┌─┐\n",
       "q_3: ──────░─┤ H ├─░───┼────┼────■───░─┤ H ├─╫──╫──╫─┤M├\n",
       "     ┌───┐ ░ ├───┤ ░ ┌─┴─┐┌─┴─┐┌─┴─┐ ░ └───┘ ║  ║  ║ └╥┘\n",
       "q_4: ┤ X ├─░─┤ H ├─░─┤ X ├┤ X ├┤ X ├─░───────╫──╫──╫──╫─\n",
       "     └───┘ ░ └───┘ ░ └───┘└───┘└───┘ ░       ║  ║  ║  ║ \n",
       "c: 4/════════════════════════════════════════╩══╩══╩══╩═\n",
       "                                             0  1  2  3 "
      ]
     },
     "execution_count": 14,
     "metadata": {},
     "output_type": "execute_result"
    }
   ],
   "source": [
    "# F[3](x1,x2,x3,x4)\n",
    "n = 4\n",
    "\n",
    "quantum_circuit3 = QuantumCircuit(n+1,n)\n",
    "\n",
    "# Apply Hadamard gates before querying the oracle\n",
    "quantum_circuit3.x(4)\n",
    "# Apply barrier for visual separation\n",
    "quantum_circuit3.barrier()\n",
    "quantum_circuit3.h([0,1,2,3,4])    \n",
    "    \n",
    "# Apply barrier for visual separation\n",
    "quantum_circuit3.barrier()\n",
    "quantum_circuit3.cx(1,4)\n",
    "quantum_circuit3.cx(2,4)\n",
    "quantum_circuit3.cx(3,4)\n",
    "#quantum_circuit.ccx(0,1,4)\n",
    "\n",
    "\n",
    "# Apply barrier for visual separation\n",
    "\n",
    "\n",
    "quantum_circuit3.barrier()\n",
    "\n",
    "# Apply Hadamard gates to the input register\n",
    "\n",
    "quantum_circuit3.h([0,1,2,3])\n",
    "\n",
    "# Measure qubits\n",
    "quantum_circuit3.measure(range(n),range(n))\n",
    "quantum_circuit3.draw()"
   ]
  },
  {
   "cell_type": "code",
   "execution_count": 15,
   "metadata": {},
   "outputs": [
    {
     "data": {
      "image/png": "[encoded data removed]",
      "text/plain": [
       "<Figure size 504x360 with 1 Axes>"
      ]
     },
     "execution_count": 15,
     "metadata": {},
     "output_type": "execute_result"
    }
   ],
   "source": [
    "# use local simulator\n",
    "aer_sim = Aer.get_backend('aer_simulator')\n",
    "shots = 1024\n",
    "qobj = assemble(quantum_circuit3, shots=shots)\n",
    "results = aer_sim.run(qobj).result()\n",
    "counts = results.get_counts()\n",
    "plot_histogram(counts)"
   ]
  },
  {
   "cell_type": "code",
   "execution_count": 18,
   "metadata": {},
   "outputs": [
    {
     "data": {
      "text/html": [
       "<pre style=\"word-wrap: normal;white-space: pre;background: #fff0;line-height: 1.1;font-family: &quot;Courier New&quot;,Courier,monospace\">           ░ ┌───┐ ░                           ░ ┌───┐┌─┐         \n",
       "q_0: ──────░─┤ H ├─░───■──────────────■────────░─┤ H ├┤M├─────────\n",
       "           ░ ├───┤ ░   │              │        ░ ├───┤└╥┘┌─┐      \n",
       "q_1: ──────░─┤ H ├─░───■─────────■────┼────■───░─┤ H ├─╫─┤M├──────\n",
       "           ░ ├───┤ ░   │         │    │    │   ░ ├───┤ ║ └╥┘┌─┐   \n",
       "q_2: ──────░─┤ H ├─░───┼────■────■────┼────┼───░─┤ H ├─╫──╫─┤M├───\n",
       "           ░ ├───┤ ░   │    │    │    │    │   ░ ├───┤ ║  ║ └╥┘┌─┐\n",
       "q_3: ──────░─┤ H ├─░───┼────■────┼────┼────┼───░─┤ H ├─╫──╫──╫─┤M├\n",
       "     ┌───┐ ░ ├───┤ ░ ┌─┴─┐┌─┴─┐┌─┴─┐┌─┴─┐┌─┴─┐ ░ └───┘ ║  ║  ║ └╥┘\n",
       "q_4: ┤ X ├─░─┤ H ├─░─┤ X ├┤ X ├┤ X ├┤ X ├┤ X ├─░───────╫──╫──╫──╫─\n",
       "     └───┘ ░ └───┘ ░ └───┘└───┘└───┘└───┘└───┘ ░       ║  ║  ║  ║ \n",
       "c: 4/══════════════════════════════════════════════════╩══╩══╩══╩═\n",
       "                                                       0  1  2  3 </pre>"
      ],
      "text/plain": [
       "           ░ ┌───┐ ░                           ░ ┌───┐┌─┐         \n",
       "q_0: ──────░─┤ H ├─░───■──────────────■────────░─┤ H ├┤M├─────────\n",
       "           ░ ├───┤ ░   │              │        ░ ├───┤└╥┘┌─┐      \n",
       "q_1: ──────░─┤ H ├─░───■─────────■────┼────■───░─┤ H ├─╫─┤M├──────\n",
       "           ░ ├───┤ ░   │         │    │    │   ░ ├───┤ ║ └╥┘┌─┐   \n",
       "q_2: ──────░─┤ H ├─░───┼────■────■────┼────┼───░─┤ H ├─╫──╫─┤M├───\n",
       "           ░ ├───┤ ░   │    │    │    │    │   ░ ├───┤ ║  ║ └╥┘┌─┐\n",
       "q_3: ──────░─┤ H ├─░───┼────■────┼────┼────┼───░─┤ H ├─╫──╫──╫─┤M├\n",
       "     ┌───┐ ░ ├───┤ ░ ┌─┴─┐┌─┴─┐┌─┴─┐┌─┴─┐┌─┴─┐ ░ └───┘ ║  ║  ║ └╥┘\n",
       "q_4: ┤ X ├─░─┤ H ├─░─┤ X ├┤ X ├┤ X ├┤ X ├┤ X ├─░───────╫──╫──╫──╫─\n",
       "     └───┘ ░ └───┘ ░ └───┘└───┘└───┘└───┘└───┘ ░       ║  ║  ║  ║ \n",
       "c: 4/══════════════════════════════════════════════════╩══╩══╩══╩═\n",
       "                                                       0  1  2  3 "
      ]
     },
     "execution_count": 18,
     "metadata": {},
     "output_type": "execute_result"
    }
   ],
   "source": [
    "# F[4](x1,x2,x3,x4)\n",
    "n = 4\n",
    "\n",
    "quantum_circuit4 = QuantumCircuit(n+1,n)\n",
    "\n",
    "# Apply Hadamard gates before querying the oracle\n",
    "quantum_circuit4.x(4)\n",
    "# Apply barrier for visual separation\n",
    "quantum_circuit4.barrier()\n",
    "quantum_circuit4.h([0,1,2,3,4])    \n",
    "    \n",
    "# Apply barrier for visual separation\n",
    "quantum_circuit4.barrier()\n",
    "quantum_circuit4.ccx(0,1,4)\n",
    "quantum_circuit4.ccx(2,3,4)\n",
    "quantum_circuit4.ccx(1,2,4)\n",
    "\n",
    "quantum_circuit4.cx(0,4)\n",
    "quantum_circuit4.cx(1,4)\n",
    "\n",
    "\n",
    "\n",
    "# Apply barrier for visual separation\n",
    "\n",
    "\n",
    "quantum_circuit4.barrier()\n",
    "\n",
    "# Apply Hadamard gates to the input register\n",
    "\n",
    "quantum_circuit4.h([0,1,2,3])\n",
    "\n",
    "# Measure qubits\n",
    "quantum_circuit4.measure(range(n),range(n))\n",
    "quantum_circuit4.draw()"
   ]
  },
  {
   "cell_type": "code",
   "execution_count": 19,
   "metadata": {},
   "outputs": [
    {
     "data": {
      "image/png": "[encoded data removed]",
      "text/plain": [
       "<Figure size 504x360 with 1 Axes>"
      ]
     },
     "execution_count": 19,
     "metadata": {},
     "output_type": "execute_result"
    }
   ],
   "source": [
    "# use local simulator\n",
    "aer_sim = Aer.get_backend('aer_simulator')\n",
    "shots = 1024\n",
    "qobj = assemble(quantum_circuit4, shots=shots)\n",
    "results = aer_sim.run(qobj).result()\n",
    "counts = results.get_counts()\n",
    "plot_histogram(counts)"
   ]
  },
  {
   "cell_type": "code",
   "execution_count": null,
   "metadata": {},
   "outputs": [],
   "source": []
  }
 ],
 "metadata": {
  "kernelspec": {
   "display_name": "Python 3",
   "language": "python",
   "name": "python3"
  },
  "language_info": {
   "codemirror_mode": {
    "name": "ipython",
    "version": 3
   },
   "file_extension": ".py",
   "mimetype": "text/x-python",
   "name": "python",
   "nbconvert_exporter": "python",
   "pygments_lexer": "ipython3",
   "version": "3.6.5"
  }
 },
 "nbformat": 4,
 "nbformat_minor": 2
}
